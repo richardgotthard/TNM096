{
 "cells": [
  {
   "cell_type": "code",
   "execution_count": 4,
   "id": "a1d31417",
   "metadata": {},
   "outputs": [
    {
     "name": "stdout",
     "output_type": "stream",
     "text": [
      "Hello World\n"
     ]
    }
   ],
   "source": [
    "msg = (\"Hello World\")\n",
    "\n",
    "print(msg)"
   ]
  },
  {
   "cell_type": "code",
   "execution_count": 6,
   "id": "71f04fbe",
   "metadata": {},
   "outputs": [
    {
     "name": "stdout",
     "output_type": "stream",
     "text": [
      "\n",
      "Starting at at  11:33:45\n",
      "problem with n = 25\n",
      "Solution: {0: 11, 1: 19, 2: 4, 3: 24, 4: 5, 5: 9, 6: 22, 7: 16, 8: 2, 9: 7, 10: 20, 11: 14, 12: 12, 13: 8, 14: 21, 15: 3, 16: 13, 17: 23, 18: 1, 19: 18, 20: 6, 21: 10, 22: 0, 23: 15, 24: 17}\n",
      "\n",
      "Elapsed time  0:00:00.004044\n"
     ]
    }
   ],
   "source": [
    "\"\"\"  TASK2/LAB2    TNM096   \n",
    "     Run the various CSP solvers on the nQueens problem            \"\"\"\n",
    "\n",
    "from time import time\n",
    "from datetime import timedelta\n",
    "from aima.csp import backtracking_search, NQueensCSP, min_conflicts, mrv, \\\n",
    "    forward_checking, AC3\n",
    "\n",
    "\n",
    "def secondsToStr(t):\n",
    "    return str(timedelta(seconds=t))\n",
    "\n",
    "def now():\n",
    "    return secondsToStr(time())\n",
    "    \n",
    "\n",
    "# 1. Set up the problem and starting time\n",
    "n = 25\n",
    "\n",
    "print(\"\\nStarting at at  \"+now()[12:20])\n",
    "print(\"problem with n =\",n)\n",
    "start = time()\n",
    "\n",
    "problem = NQueensCSP(n)\n",
    "    \n",
    "# 2. Solve the problem\n",
    "#solution = backtracking_search(problem)\n",
    "#solution = AC3(problem); \n",
    "solution = min_conflicts(problem)\n",
    "\n",
    "\n",
    "# 3. Print the results\n",
    "\n",
    "# Handle AC3 solutions (boolean values) first, they behave differently.\n",
    "if type(solution) is bool:\n",
    "    if solution and problem.goal_test(problem.infer_assignment()):\n",
    "        print(\"AC3 Solution:\")\n",
    "        print(problem.curr_domains)\n",
    "    else:\n",
    "        print(\"AC3 Failure\")\n",
    "        print(problem.curr_domains)\n",
    "# Handle other solutions next\n",
    "elif problem.goal_test(solution):\n",
    "    print(\"Solution:\", solution)\n",
    "else:\n",
    "    print(\"Failed - domains: \" + str(problem.curr_domains))\n",
    "    #problem.display(problem.infer_assignment())\n",
    "\n",
    "\n",
    "# 4. Print elapsed time\n",
    "\n",
    "end = time()\n",
    "elapsed = end-start\n",
    "print(\"\\nElapsed time \",  secondsToStr(elapsed)[0:15])"
   ]
  },
  {
   "cell_type": "code",
   "execution_count": 5,
   "id": "f551b962",
   "metadata": {},
   "outputs": [
    {
     "name": "stdout",
     "output_type": "stream",
     "text": [
      "\n",
      "Starting at at  11:32:39\n",
      "problem with n = 25\n",
      "Solution:   [24, 22, 20, 23, 21, 16, 14, 12, 10, 6, 4, 1, 5, 0, 2, 19, 17, 15, 18, 11, 9, 7, 13, 8, 3]\n",
      "\n",
      "Elapsed time  0:00:02.852629\n"
     ]
    }
   ],
   "source": [
    "\"\"\"  TASK2/LAB2    TNM096   \n",
    "     Solve the nQueens problem by using depth-first search            \"\"\"\n",
    "     \n",
    "     \n",
    "from time import time\n",
    "from datetime import timedelta\n",
    "from aima.search import depth_first_tree_search, NQueensProblem, Problem\n",
    "\n",
    "def secondsToStr(t):\n",
    "    return str(timedelta(seconds=t))\n",
    "\n",
    "def now():\n",
    "    return secondsToStr(time())\n",
    "    \n",
    "\n",
    "# 1. Set up the problem and set the starting time\n",
    "n = 25\n",
    "\n",
    "print(\"\\nStarting at at  \"+now()[12:20])\n",
    "print(\"problem with n =\",n)\n",
    "start = time()\n",
    "\n",
    "# 2. Solve the NQueens problem with depth-first search\n",
    "solution = depth_first_tree_search(NQueensProblem(n))\n",
    "sol = str(solution)\n",
    "print(\"Solution: \", sol[5:len(sol)-1])\n",
    "\n",
    "\n",
    "# 3. Print time elapsed\n",
    "end = time()\n",
    "elapsed = end-start\n",
    "print(\"\\nElapsed time \",  secondsToStr(elapsed)[0:15])\n"
   ]
  },
  {
   "cell_type": "code",
   "execution_count": null,
   "id": "cb9a1974",
   "metadata": {},
   "outputs": [],
   "source": []
  }
 ],
 "metadata": {
  "kernelspec": {
   "display_name": "Python 3 (ipykernel)",
   "language": "python",
   "name": "python3"
  },
  "language_info": {
   "codemirror_mode": {
    "name": "ipython",
    "version": 3
   },
   "file_extension": ".py",
   "mimetype": "text/x-python",
   "name": "python",
   "nbconvert_exporter": "python",
   "pygments_lexer": "ipython3",
   "version": "3.9.7"
  }
 },
 "nbformat": 4,
 "nbformat_minor": 5
}
